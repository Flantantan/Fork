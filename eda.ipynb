{
 "cells": [
  {
   "cell_type": "code",
   "execution_count": 85,
   "metadata": {},
   "outputs": [],
   "source": [
    "import pandas as pd\n",
    "import seaborn as sns\n",
    "import matplotlib.pyplot as plt\n",
    "import os\n"
   ]
  },
  {
   "cell_type": "code",
   "execution_count": 86,
   "metadata": {},
   "outputs": [],
   "source": [
    "df1 = pd.read_excel(\"Data/Web_Teaser_Bewertung_01.xlsx\")#, sheet_name=None)"
   ]
  },
  {
   "cell_type": "code",
   "execution_count": 87,
   "metadata": {},
   "outputs": [],
   "source": [
    "df2 = pd.read_excel(\"Data/Web_Teaser_Bewertung_02.xlsx\")#, sheet_name=None)"
   ]
  },
  {
   "cell_type": "code",
   "execution_count": 88,
   "metadata": {},
   "outputs": [],
   "source": [
    "df3 = pd.read_excel(\"Data/Web_Teaser_Bewertung_02.xlsx\")#, sheet_name=None)"
   ]
  },
  {
   "cell_type": "code",
   "execution_count": 89,
   "metadata": {},
   "outputs": [],
   "source": [
    "dfs = [df1, df2, df3]"
   ]
  },
  {
   "cell_type": "code",
   "execution_count": 90,
   "metadata": {},
   "outputs": [],
   "source": [
    "def split_input_target(df):\n",
    "    header = df.iloc[0]\n",
    "    df = df.rename(columns=df.iloc[0]).iloc[1:201].drop(columns=\"teaser_name\")\n",
    "    target_names = [\"accent colour\", \"background colour\", \"font colour\", \"font contrast\", \"space\", \"roundness\"]\n",
    "    targets = df[target_names]\n",
    "    inputs = df.drop(columns=target_names)\n",
    "    inputs = inputs.astype(int)#.abs()\n",
    "    return inputs, targets"
   ]
  },
  {
   "cell_type": "code",
   "execution_count": 91,
   "metadata": {},
   "outputs": [],
   "source": [
    "inputs = []\n",
    "targets = []\n",
    "for df in dfs:\n",
    "    input_df, target_df = split_input_target(df)\n",
    "    inputs.append(input_df)\n",
    "    targets.append(target_df)"
   ]
  },
  {
   "cell_type": "code",
   "execution_count": 92,
   "metadata": {},
   "outputs": [],
   "source": [
    "inputs1, targets1 = split_input_target(df1)\n",
    "inputs2, targets2 = split_input_target(df2)"
   ]
  },
  {
   "cell_type": "markdown",
   "metadata": {},
   "source": [
    "## Check data integrity of target"
   ]
  },
  {
   "cell_type": "code",
   "execution_count": 93,
   "metadata": {},
   "outputs": [
    {
     "data": {
      "text/plain": [
       "accent colour        53\n",
       "background colour     1\n",
       "font colour           0\n",
       "font contrast         0\n",
       "space                 0\n",
       "roundness             8\n",
       "dtype: int64"
      ]
     },
     "execution_count": 93,
     "metadata": {},
     "output_type": "execute_result"
    }
   ],
   "source": [
    "(targets1 != targets2).sum()"
   ]
  },
  {
   "cell_type": "code",
   "execution_count": 94,
   "metadata": {},
   "outputs": [],
   "source": [
    "mask = (targets1[\"accent colour\"] != targets2[\"accent colour\"])"
   ]
  },
  {
   "cell_type": "code",
   "execution_count": 95,
   "metadata": {},
   "outputs": [],
   "source": [
    "#targets1[mask]"
   ]
  },
  {
   "cell_type": "code",
   "execution_count": 96,
   "metadata": {},
   "outputs": [],
   "source": [
    "#targets2[mask]"
   ]
  },
  {
   "cell_type": "markdown",
   "metadata": {},
   "source": [
    "## Show deviation of responses:"
   ]
  },
  {
   "cell_type": "code",
   "execution_count": 104,
   "metadata": {},
   "outputs": [
    {
     "data": {
      "text/html": [
       "<div>\n",
       "<style scoped>\n",
       "    .dataframe tbody tr th:only-of-type {\n",
       "        vertical-align: middle;\n",
       "    }\n",
       "\n",
       "    .dataframe tbody tr th {\n",
       "        vertical-align: top;\n",
       "    }\n",
       "\n",
       "    .dataframe thead th {\n",
       "        text-align: right;\n",
       "    }\n",
       "</style>\n",
       "<table border=\"1\" class=\"dataframe\">\n",
       "  <thead>\n",
       "    <tr style=\"text-align: right;\">\n",
       "      <th></th>\n",
       "      <th>Innovative - Traditional</th>\n",
       "      <th>Elegant - Lassig</th>\n",
       "      <th>Emotional - Sachlich</th>\n",
       "      <th>Jung - Erfahren</th>\n",
       "      <th>Perfektionistisch - Spontan</th>\n",
       "      <th>zurückhalten - selbstsicher</th>\n",
       "      <th>Weiblich -  Männlich</th>\n",
       "    </tr>\n",
       "  </thead>\n",
       "  <tbody>\n",
       "    <tr>\n",
       "      <th>1</th>\n",
       "      <td>-9</td>\n",
       "      <td>7</td>\n",
       "      <td>-5</td>\n",
       "      <td>-9</td>\n",
       "      <td>7</td>\n",
       "      <td>-9</td>\n",
       "      <td>-3</td>\n",
       "    </tr>\n",
       "    <tr>\n",
       "      <th>2</th>\n",
       "      <td>-7</td>\n",
       "      <td>2</td>\n",
       "      <td>-5</td>\n",
       "      <td>-3</td>\n",
       "      <td>7</td>\n",
       "      <td>-7</td>\n",
       "      <td>2</td>\n",
       "    </tr>\n",
       "    <tr>\n",
       "      <th>3</th>\n",
       "      <td>-5</td>\n",
       "      <td>3</td>\n",
       "      <td>-7</td>\n",
       "      <td>-8</td>\n",
       "      <td>8</td>\n",
       "      <td>-7</td>\n",
       "      <td>3</td>\n",
       "    </tr>\n",
       "    <tr>\n",
       "      <th>4</th>\n",
       "      <td>3</td>\n",
       "      <td>-4</td>\n",
       "      <td>2</td>\n",
       "      <td>4</td>\n",
       "      <td>-1</td>\n",
       "      <td>-4</td>\n",
       "      <td>0</td>\n",
       "    </tr>\n",
       "    <tr>\n",
       "      <th>5</th>\n",
       "      <td>-2</td>\n",
       "      <td>-1</td>\n",
       "      <td>-3</td>\n",
       "      <td>-2</td>\n",
       "      <td>5</td>\n",
       "      <td>-3</td>\n",
       "      <td>-3</td>\n",
       "    </tr>\n",
       "    <tr>\n",
       "      <th>...</th>\n",
       "      <td>...</td>\n",
       "      <td>...</td>\n",
       "      <td>...</td>\n",
       "      <td>...</td>\n",
       "      <td>...</td>\n",
       "      <td>...</td>\n",
       "      <td>...</td>\n",
       "    </tr>\n",
       "    <tr>\n",
       "      <th>196</th>\n",
       "      <td>-2</td>\n",
       "      <td>-6</td>\n",
       "      <td>-2</td>\n",
       "      <td>5</td>\n",
       "      <td>5</td>\n",
       "      <td>-4</td>\n",
       "      <td>2</td>\n",
       "    </tr>\n",
       "    <tr>\n",
       "      <th>197</th>\n",
       "      <td>-8</td>\n",
       "      <td>7</td>\n",
       "      <td>-3</td>\n",
       "      <td>-6</td>\n",
       "      <td>7</td>\n",
       "      <td>-4</td>\n",
       "      <td>1</td>\n",
       "    </tr>\n",
       "    <tr>\n",
       "      <th>198</th>\n",
       "      <td>-5</td>\n",
       "      <td>6</td>\n",
       "      <td>1</td>\n",
       "      <td>-6</td>\n",
       "      <td>9</td>\n",
       "      <td>-9</td>\n",
       "      <td>4</td>\n",
       "    </tr>\n",
       "    <tr>\n",
       "      <th>199</th>\n",
       "      <td>-7</td>\n",
       "      <td>5</td>\n",
       "      <td>-6</td>\n",
       "      <td>-2</td>\n",
       "      <td>-4</td>\n",
       "      <td>-8</td>\n",
       "      <td>5</td>\n",
       "    </tr>\n",
       "    <tr>\n",
       "      <th>200</th>\n",
       "      <td>3</td>\n",
       "      <td>-4</td>\n",
       "      <td>-1</td>\n",
       "      <td>-7</td>\n",
       "      <td>9</td>\n",
       "      <td>-9</td>\n",
       "      <td>-3</td>\n",
       "    </tr>\n",
       "  </tbody>\n",
       "</table>\n",
       "<p>200 rows × 7 columns</p>\n",
       "</div>"
      ],
      "text/plain": [
       "     Innovative - Traditional   Elegant - Lassig   Emotional - Sachlich  \\\n",
       "1                           -9                  7                    -5   \n",
       "2                           -7                  2                    -5   \n",
       "3                           -5                  3                    -7   \n",
       "4                            3                 -4                     2   \n",
       "5                           -2                 -1                    -3   \n",
       "..                         ...                ...                   ...   \n",
       "196                         -2                 -6                    -2   \n",
       "197                         -8                  7                    -3   \n",
       "198                         -5                  6                     1   \n",
       "199                         -7                  5                    -6   \n",
       "200                          3                 -4                    -1   \n",
       "\n",
       "     Jung - Erfahren  Perfektionistisch - Spontan  \\\n",
       "1                 -9                            7   \n",
       "2                 -3                            7   \n",
       "3                 -8                            8   \n",
       "4                  4                           -1   \n",
       "5                 -2                            5   \n",
       "..               ...                          ...   \n",
       "196                5                            5   \n",
       "197               -6                            7   \n",
       "198               -6                            9   \n",
       "199               -2                           -4   \n",
       "200               -7                            9   \n",
       "\n",
       "     zurückhalten - selbstsicher  Weiblich -  Männlich  \n",
       "1                             -9                    -3  \n",
       "2                             -7                     2  \n",
       "3                             -7                     3  \n",
       "4                             -4                     0  \n",
       "5                             -3                    -3  \n",
       "..                           ...                   ...  \n",
       "196                           -4                     2  \n",
       "197                           -4                     1  \n",
       "198                           -9                     4  \n",
       "199                           -8                     5  \n",
       "200                           -9                    -3  \n",
       "\n",
       "[200 rows x 7 columns]"
      ]
     },
     "execution_count": 104,
     "metadata": {},
     "output_type": "execute_result"
    }
   ],
   "source": [
    "# Inpect data:\n",
    "inputs[0]"
   ]
  },
  {
   "cell_type": "code",
   "execution_count": 105,
   "metadata": {},
   "outputs": [],
   "source": [
    "# Calculate mean\n",
    "mean_input = inputs[0].copy()\n",
    "for inp in inputs[1:]:\n",
    "    mean_input += inp.copy()\n",
    "mean_input /= len(inputs)"
   ]
  },
  {
   "cell_type": "code",
   "execution_count": 106,
   "metadata": {},
   "outputs": [
    {
     "data": {
      "text/plain": [
       "Innovative - Traditional      -1.258333\n",
       "Elegant - Lassig               1.416667\n",
       "Emotional - Sachlich          -1.396667\n",
       "Jung - Erfahren                0.060000\n",
       "Perfektionistisch - Spontan    2.255000\n",
       "zurückhalten - selbstsicher   -4.935000\n",
       "Weiblich -  Männlich           0.791667\n",
       "dtype: float64"
      ]
     },
     "execution_count": 106,
     "metadata": {},
     "output_type": "execute_result"
    }
   ],
   "source": [
    "mean_input.mean()"
   ]
  },
  {
   "cell_type": "code",
   "execution_count": 107,
   "metadata": {},
   "outputs": [],
   "source": [
    "# Calculate std:\n",
    "std_input = (inputs[0].copy() - mean_input) ** 2\n",
    "for inp in inputs[1:]:\n",
    "    std_input += (inp.copy() - mean_input) ** 2\n",
    "std_input /= len(inputs)\n",
    "std_input = std_input ** 0.5"
   ]
  },
  {
   "cell_type": "code",
   "execution_count": 108,
   "metadata": {},
   "outputs": [
    {
     "data": {
      "text/plain": [
       "Innovative - Traditional       0.872098\n",
       "Elegant - Lassig               0.749533\n",
       "Emotional - Sachlich           0.810816\n",
       "Jung - Erfahren                0.874455\n",
       "Perfektionistisch - Spontan    0.655252\n",
       "zurückhalten - selbstsicher    0.914525\n",
       "Weiblich -  Männlich           1.091301\n",
       "dtype: float64"
      ]
     },
     "execution_count": 108,
     "metadata": {},
     "output_type": "execute_result"
    }
   ],
   "source": [
    "std_input.mean()"
   ]
  },
  {
   "cell_type": "code",
   "execution_count": null,
   "metadata": {},
   "outputs": [],
   "source": []
  },
  {
   "cell_type": "code",
   "execution_count": 102,
   "metadata": {},
   "outputs": [
    {
     "data": {
      "text/plain": [
       "Text(0.5, 1.0, 'Mean deviation of responses with standard deviation')"
      ]
     },
     "execution_count": 102,
     "metadata": {},
     "output_type": "execute_result"
    },
    {
     "data": {
      "image/png": "[encoded data removed]",
      "text/plain": [
       "<Figure size 432x288 with 1 Axes>"
      ]
     },
     "metadata": {
      "needs_background": "light"
     },
     "output_type": "display_data"
    }
   ],
   "source": [
    "plt.plot(mean_input.mean())\n",
    "plt.errorbar(range(len(mean_input.mean())), mean_input.mean(),yerr=std_input.mean(), fmt='-o')\n",
    "plt.ylim(-6, 6)\n",
    "plt.xticks(rotation=60)\n",
    "plt.title(\"Mean deviation of responses with standard deviation\")"
   ]
  },
  {
   "cell_type": "code",
   "execution_count": null,
   "metadata": {},
   "outputs": [],
   "source": []
  }
 ],
 "metadata": {
  "kernelspec": {
   "display_name": "Python 3",
   "language": "python",
   "name": "python3"
  },
  "language_info": {
   "codemirror_mode": {
    "name": "ipython",
    "version": 3
   },
   "file_extension": ".py",
   "mimetype": "text/x-python",
   "name": "python",
   "nbconvert_exporter": "python",
   "pygments_lexer": "ipython3",
   "version": "3.7.4"
  }
 },
 "nbformat": 4,
 "nbformat_minor": 4
}
