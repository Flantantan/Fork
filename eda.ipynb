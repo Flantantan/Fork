{
 "cells": [
  {
   "cell_type": "code",
   "execution_count": null,
   "metadata": {},
   "outputs": [],
   "source": [
    "import pandas as pd\n",
    "import seaborn as sns\n",
    "import matplotlib.pyplot as plt\n",
    "import os\n",
    "from sys import platform\n",
    "import numpy as np"
   ]
  },
  {
   "cell_type": "code",
   "execution_count": null,
   "metadata": {},
   "outputs": [],
   "source": [
    "df1 = pd.read_excel(\"Data/Web_Teaser_Bewertung_01.xlsx\")#, sheet_name=None)"
   ]
  },
  {
   "cell_type": "code",
   "execution_count": null,
   "metadata": {},
   "outputs": [],
   "source": [
    "df2 = pd.read_excel(\"Data/Web_Teaser_Bewertung_02.xlsx\")#, sheet_name=None)"
   ]
  },
  {
   "cell_type": "code",
   "execution_count": null,
   "metadata": {},
   "outputs": [],
   "source": [
    "df3 = pd.read_excel(\"Data/Web_Teaser_Bewertung_03.xlsx\")#, sheet_name=None)"
   ]
  },
  {
   "cell_type": "code",
   "execution_count": null,
   "metadata": {},
   "outputs": [],
   "source": [
    "dfs = [df1, df2, df3]"
   ]
  },
  {
   "cell_type": "code",
   "execution_count": null,
   "metadata": {},
   "outputs": [],
   "source": [
    "target_names = [\"accent colour\", \"background colour\", \"font colour\", \"font contrast\", \"space\", \"roundness\"]"
   ]
  },
  {
   "cell_type": "code",
   "execution_count": null,
   "metadata": {},
   "outputs": [],
   "source": [
    "def split_input_target(df):\n",
    "    header = df.iloc[0]\n",
    "    df = df.rename(columns=df.iloc[0]).iloc[1:201]\n",
    "    if platform == \"linux\" or platform == \"linux2\":\n",
    "        df = df.drop(columns=\"teaser_name\")\n",
    "    target_names = [\"accent colour\", \"background colour\", \"font colour\", \"font contrast\", \"space\", \"roundness\"]\n",
    "    targets = df[target_names]\n",
    "    inputs = df.drop(columns=target_names)\n",
    "    inputs = inputs.astype(int)\n",
    "    return inputs, targets"
   ]
  },
  {
   "cell_type": "code",
   "execution_count": null,
   "metadata": {},
   "outputs": [],
   "source": [
    "inputs = []\n",
    "targets = []\n",
    "for df in dfs:\n",
    "    input_df, target_df = split_input_target(df)\n",
    "    inputs.append(input_df)\n",
    "    targets.append(target_df)"
   ]
  },
  {
   "cell_type": "code",
   "execution_count": null,
   "metadata": {},
   "outputs": [],
   "source": [
    "inputs1, targets1 = split_input_target(df1)\n",
    "inputs2, targets2 = split_input_target(df2)"
   ]
  },
  {
   "cell_type": "markdown",
   "metadata": {},
   "source": [
    "## Check data integrity of target"
   ]
  },
  {
   "cell_type": "code",
   "execution_count": null,
   "metadata": {},
   "outputs": [],
   "source": [
    "(targets1 != targets2).sum()"
   ]
  },
  {
   "cell_type": "code",
   "execution_count": null,
   "metadata": {},
   "outputs": [],
   "source": [
    "mask = (targets1[\"accent colour\"] != targets2[\"accent colour\"])"
   ]
  },
  {
   "cell_type": "code",
   "execution_count": null,
   "metadata": {},
   "outputs": [],
   "source": [
    "#targets1[mask]"
   ]
  },
  {
   "cell_type": "code",
   "execution_count": null,
   "metadata": {},
   "outputs": [],
   "source": [
    "#targets2[mask]"
   ]
  },
  {
   "cell_type": "markdown",
   "metadata": {},
   "source": [
    "## Show deviation of responses:"
   ]
  },
  {
   "cell_type": "code",
   "execution_count": null,
   "metadata": {
    "scrolled": true
   },
   "outputs": [],
   "source": [
    "# Inpect data:\n",
    "inputs[2]"
   ]
  },
  {
   "cell_type": "code",
   "execution_count": null,
   "metadata": {},
   "outputs": [],
   "source": [
    "# Calculate mean\n",
    "mean_input = inputs[0].copy()\n",
    "for inp in inputs[1:]:\n",
    "    mean_input += inp.copy()\n",
    "mean_input /= len(inputs)"
   ]
  },
  {
   "cell_type": "code",
   "execution_count": null,
   "metadata": {},
   "outputs": [],
   "source": [
    "mean_input.mean()"
   ]
  },
  {
   "cell_type": "code",
   "execution_count": null,
   "metadata": {},
   "outputs": [],
   "source": [
    "# Calculate std:\n",
    "std_input = (inputs[0].copy() - mean_input) ** 2\n",
    "for inp in inputs[1:]:\n",
    "    std_input += (inp.copy() - mean_input) ** 2\n",
    "std_input /= len(inputs)\n",
    "std_input = std_input ** 0.5"
   ]
  },
  {
   "cell_type": "code",
   "execution_count": null,
   "metadata": {},
   "outputs": [],
   "source": [
    "std_input.mean()"
   ]
  },
  {
   "cell_type": "code",
   "execution_count": null,
   "metadata": {},
   "outputs": [],
   "source": [
    "plt.plot(mean_input.mean())\n",
    "plt.errorbar(range(len(mean_input.mean())), mean_input.mean(),yerr=std_input.mean(), fmt='-o')\n",
    "plt.ylim(-10, 10)\n",
    "plt.xticks(rotation=60)\n",
    "plt.title(\"Mean deviation of responses with standard deviation\")"
   ]
  },
  {
   "cell_type": "markdown",
   "metadata": {},
   "source": [
    "## Correlation between input columns"
   ]
  },
  {
   "cell_type": "code",
   "execution_count": null,
   "metadata": {},
   "outputs": [],
   "source": [
    "corr1 = inputs[0].corr()\n",
    "corr2 = inputs[1].corr()\n",
    "corr3 = inputs[2].corr()\n",
    "\n",
    "corr_total = inputs[0].append(inputs[1]).append(inputs[2]).corr()"
   ]
  },
  {
   "cell_type": "code",
   "execution_count": null,
   "metadata": {},
   "outputs": [],
   "source": [
    "fig = plt.figure(figsize = (20, 20)) # width x height\n",
    "ax1 = fig.add_subplot(331) # row, column, position\n",
    "ax2 = fig.add_subplot(332)\n",
    "ax3 = fig.add_subplot(333)\n",
    "\n",
    "sns.heatmap(corr1, ax=ax1, vmin=-1, vmax=1,  annot=True, annot_kws={'fontsize': 12}).set_title('Werkstudent 1', fontsize =20)\n",
    "sns.heatmap(corr2, ax=ax2, vmin=-1, vmax=1,  yticklabels=False,  annot=True, annot_kws={'fontsize': 12}).set_title('Werkstudent 2', fontsize =20) \n",
    "sns.heatmap(corr3, ax=ax3, vmin=-1, vmax=1,  yticklabels=False, annot=True, annot_kws={'fontsize': 12}).set_title('Matt', fontsize =20) "
   ]
  },
  {
   "cell_type": "code",
   "execution_count": null,
   "metadata": {},
   "outputs": [],
   "source": [
    "fig = plt.figure(figsize = (8, 8)) # width x height\n",
    "ax1 = fig.add_subplot(111)  # row, column, position\n",
    "\n",
    "sns.heatmap(corr_total, ax=ax1, vmin=-1, vmax=1, square=True, annot=True, annot_kws={'fontsize': 12}).set_title('Combined correlation', fontsize =20)"
   ]
  },
  {
   "cell_type": "markdown",
   "metadata": {},
   "source": [
    "# Sklearn tests:"
   ]
  },
  {
   "cell_type": "code",
   "execution_count": null,
   "metadata": {},
   "outputs": [],
   "source": [
    "targets[0]"
   ]
  },
  {
   "cell_type": "code",
   "execution_count": null,
   "metadata": {},
   "outputs": [],
   "source": [
    "# Check NANs\n",
    "pd.concat(targets).isnull().mean()"
   ]
  },
  {
   "cell_type": "code",
   "execution_count": null,
   "metadata": {},
   "outputs": [],
   "source": [
    "dataset = pd.concat((pd.concat(inputs), pd.concat(targets)), axis=1)"
   ]
  },
  {
   "cell_type": "code",
   "execution_count": null,
   "metadata": {},
   "outputs": [],
   "source": [
    "dataset = dataset.dropna(subset=[\"roundness\"])"
   ]
  },
  {
   "cell_type": "code",
   "execution_count": null,
   "metadata": {},
   "outputs": [],
   "source": [
    "inputs_np = dataset.drop(columns=target_names).to_numpy()\n",
    "inputs_np.shape"
   ]
  },
  {
   "cell_type": "code",
   "execution_count": null,
   "metadata": {},
   "outputs": [],
   "source": [
    "# preprocess:\n",
    "from sklearn.preprocessing import StandardScaler\n",
    "inputs_np = StandardScaler().fit_transform(inputs_np)"
   ]
  },
  {
   "cell_type": "code",
   "execution_count": null,
   "metadata": {},
   "outputs": [],
   "source": [
    "pd.options.mode.chained_assignment = None  # default='warn''"
   ]
  },
  {
   "cell_type": "code",
   "execution_count": null,
   "metadata": {},
   "outputs": [],
   "source": [
    "# Extract target values that we want to predict:\n",
    "used_targets = [\"roundness\"]\n",
    "#used_targets = [\"space\", \"font contrast\", \"roundness\"]\n",
    "targets = dataset[target_names]\n",
    "targets[\"space\"] = targets[\"space\"].astype(\"category\").cat.codes\n",
    "targets[\"font contrast\"] = targets[\"font contrast\"].astype(\"category\").cat.codes\n",
    "targets[\"roundness\"] = targets[\"roundness\"].astype(\"category\").cat.codes\n",
    "targets_np = targets[used_targets].to_numpy()"
   ]
  },
  {
   "cell_type": "code",
   "execution_count": null,
   "metadata": {},
   "outputs": [],
   "source": [
    "from sklearn.model_selection import train_test_split"
   ]
  },
  {
   "cell_type": "code",
   "execution_count": null,
   "metadata": {},
   "outputs": [],
   "source": [
    "import sklearn\n",
    "from sklearn.svm import SVC\n",
    "from sklearn.neural_network import MLPClassifier\n",
    "from sklearn.ensemble import RandomForestClassifier\n",
    "from sklearn.multioutput import MultiOutputClassifier"
   ]
  },
  {
   "cell_type": "code",
   "execution_count": null,
   "metadata": {},
   "outputs": [],
   "source": [
    "print(inputs_np.shape, targets_np.shape)"
   ]
  },
  {
   "cell_type": "code",
   "execution_count": null,
   "metadata": {},
   "outputs": [],
   "source": [
    "def apply_classifier(inputs, targets, classifier):\n",
    "    X_train, X_test, Y_train, Y_test = train_test_split(inputs_np, targets_np)\n",
    "    classifier.fit(X_train, Y_train)\n",
    "    Y_pred = classifier.predict(X_test)\n",
    "    #print(sklearn.metrics.classification_report(Y_test, Y_pred))\n",
    "    accuracy = classifier.score(X_test, Y_test)\n",
    "    print(\"Accuracy: \", accuracy)\n",
    "    return classifier"
   ]
  },
  {
   "cell_type": "code",
   "execution_count": null,
   "metadata": {},
   "outputs": [],
   "source": [
    "#classifier = SVC()\n",
    "classifier = MultiOutputClassifier(SVC())\n",
    "classifier = apply_classifier(inputs_np, targets_np, classifier)"
   ]
  },
  {
   "cell_type": "code",
   "execution_count": null,
   "metadata": {},
   "outputs": [],
   "source": [
    "classifier = MultiOutputClassifier(MLPClassifier(solver='adam', max_iter=1000, batch_size=32))\n",
    "classifier = apply_classifier(inputs_np, targets_np, classifier)"
   ]
  },
  {
   "cell_type": "code",
   "execution_count": null,
   "metadata": {},
   "outputs": [],
   "source": [
    "classifier = MultiOutputClassifier(RandomForestClassifier())\n",
    "classifier = apply_classifier(inputs_np, targets_np, classifier)"
   ]
  },
  {
   "cell_type": "code",
   "execution_count": null,
   "metadata": {},
   "outputs": [],
   "source": []
  }
 ],
 "metadata": {
  "kernelspec": {
   "display_name": "Python 3",
   "language": "python",
   "name": "python3"
  },
  "language_info": {
   "codemirror_mode": {
    "name": "ipython",
    "version": 3
   },
   "file_extension": ".py",
   "mimetype": "text/x-python",
   "name": "python",
   "nbconvert_exporter": "python",
   "pygments_lexer": "ipython3",
   "version": "3.7.4"
  }
 },
 "nbformat": 4,
 "nbformat_minor": 4
}
